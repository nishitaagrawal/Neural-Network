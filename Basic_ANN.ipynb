{
  "nbformat": 4,
  "nbformat_minor": 0,
  "metadata": {
    "colab": {
      "name": "Basic ANN",
      "provenance": []
    },
    "kernelspec": {
      "name": "python3",
      "display_name": "Python 3"
    }
  },
  "cells": [
    {
      "cell_type": "markdown",
      "metadata": {
        "id": "3iKNqd9OodFl",
        "colab_type": "text"
      },
      "source": [
        "# **BASIC ANN**\n",
        "Using ANN for Hand writing recognition in MNIST dataset"
      ]
    },
    {
      "cell_type": "code",
      "metadata": {
        "id": "usq7gjjCle79",
        "colab_type": "code",
        "outputId": "a0a07cdf-6e82-40ba-bcbe-45b72317bc7d",
        "colab": {
          "base_uri": "https://localhost:8080/",
          "height": 34
        }
      },
      "source": [
        "import keras\n",
        "from keras.datasets import mnist"
      ],
      "execution_count": 0,
      "outputs": [
        {
          "output_type": "stream",
          "text": [
            "Using TensorFlow backend.\n"
          ],
          "name": "stderr"
        }
      ]
    },
    {
      "cell_type": "code",
      "metadata": {
        "id": "NbIQIUAoliRf",
        "colab_type": "code",
        "outputId": "df3ed7f7-60bb-4dca-9f69-60e788a1de81",
        "colab": {
          "base_uri": "https://localhost:8080/",
          "height": 50
        }
      },
      "source": [
        "(x_train,y_train),(x_test,y_test)=mnist.load_data()"
      ],
      "execution_count": 0,
      "outputs": [
        {
          "output_type": "stream",
          "text": [
            "Downloading data from https://s3.amazonaws.com/img-datasets/mnist.npz\n",
            "11493376/11490434 [==============================] - 1s 0us/step\n"
          ],
          "name": "stdout"
        }
      ]
    },
    {
      "cell_type": "code",
      "metadata": {
        "id": "nqrWzj0plmjS",
        "colab_type": "code",
        "colab": {}
      },
      "source": [
        "import matplotlib.pyplot as plt\n",
        "%matplotlib inline\n",
        "image_index=651"
      ],
      "execution_count": 0,
      "outputs": []
    },
    {
      "cell_type": "code",
      "metadata": {
        "id": "TOTXZtWMlpkq",
        "colab_type": "code",
        "outputId": "e9100b6b-c39a-4917-d9cf-d57c113aa32b",
        "colab": {
          "base_uri": "https://localhost:8080/",
          "height": 298
        }
      },
      "source": [
        "print(y_train[image_index])\n",
        "plt.imshow(x_train[image_index],cmap='Greys')"
      ],
      "execution_count": 0,
      "outputs": [
        {
          "output_type": "stream",
          "text": [
            "7\n"
          ],
          "name": "stdout"
        },
        {
          "output_type": "execute_result",
          "data": {
            "text/plain": [
              "<matplotlib.image.AxesImage at 0x7f4c3050c828>"
            ]
          },
          "metadata": {
            "tags": []
          },
          "execution_count": 7
        },
        {
          "output_type": "display_data",
          "data": {
            "image/png": "[encoded data removed]",
            "text/plain": [
              "<Figure size 432x288 with 1 Axes>"
            ]
          },
          "metadata": {
            "tags": [],
            "needs_background": "light"
          }
        }
      ]
    },
    {
      "cell_type": "code",
      "metadata": {
        "id": "KEcW0dQPlsER",
        "colab_type": "code",
        "outputId": "217525de-5e9f-475d-f05c-c32efe5d090a",
        "colab": {
          "base_uri": "https://localhost:8080/",
          "height": 34
        }
      },
      "source": [
        "x_train.shape"
      ],
      "execution_count": 0,
      "outputs": [
        {
          "output_type": "execute_result",
          "data": {
            "text/plain": [
              "(60000, 28, 28)"
            ]
          },
          "metadata": {
            "tags": []
          },
          "execution_count": 8
        }
      ]
    },
    {
      "cell_type": "code",
      "metadata": {
        "id": "9Fv8xPtQl8I4",
        "colab_type": "code",
        "outputId": "9cddabf6-4482-4cf5-e101-8140a19fa207",
        "colab": {
          "base_uri": "https://localhost:8080/",
          "height": 67
        }
      },
      "source": [
        "x_train=x_train.reshape(60000,784)\n",
        "x_test=x_test.reshape(10000,784)\n",
        "x_train=x_train.astype('float32')\n",
        "x_test=x_test.astype('float32')\n",
        "x_train/=255\n",
        "x_test/=255\n",
        "\n",
        "y_train = keras.utils.to_categorical(y_train, 10) \n",
        "y_test = keras.utils.to_categorical(y_test, 10)\n",
        "print(\"x_train shape : \",x_train.shape)\n",
        "print(\"number of images in x_test : \",x_test.shape[0])\n",
        "print(\"number of images in x_train : \",x_train.shape[0])"
      ],
      "execution_count": 0,
      "outputs": [
        {
          "output_type": "stream",
          "text": [
            "x_train shape :  (60000, 784)\n",
            "number of images in x_test :  10000\n",
            "number of images in x_train :  60000\n"
          ],
          "name": "stdout"
        }
      ]
    },
    {
      "cell_type": "code",
      "metadata": {
        "id": "CH5zn3Vbl-oG",
        "colab_type": "code",
        "colab": {}
      },
      "source": [
        "from keras.models import Sequential\n",
        "from keras.layers import Dense,Dropout\n",
        "from keras.optimizers import Adam\n",
        "model=Sequential()\n",
        "model.add(Dense(512,activation='relu',input_shape=(784,)))\n",
        "model.add(Dropout(0.2))\n",
        "model.add(Dense(512,activation='relu'))\n",
        "model.add(Dropout(0.2))\n",
        "model.add(Dense(10,activation='softmax'))\n"
      ],
      "execution_count": 0,
      "outputs": []
    },
    {
      "cell_type": "code",
      "metadata": {
        "id": "zPH4J4TvmBfE",
        "colab_type": "code",
        "colab": {}
      },
      "source": [
        "model.compile(loss='categorical_crossentropy',optimizer='Adam',metrics=['accuracy'])"
      ],
      "execution_count": 0,
      "outputs": []
    },
    {
      "cell_type": "code",
      "metadata": {
        "id": "iOOK74QHmFA0",
        "colab_type": "code",
        "outputId": "71dd76ad-0daa-4fe3-aad6-8724054b8d12",
        "colab": {
          "base_uri": "https://localhost:8080/",
          "height": 706
        }
      },
      "source": [
        "history=model.fit(x_train,y_train,batch_size=128,epochs=20,verbose=1,validation_data=(x_test,y_test))"
      ],
      "execution_count": 0,
      "outputs": [
        {
          "output_type": "stream",
          "text": [
            "Train on 60000 samples, validate on 10000 samples\n",
            "Epoch 1/20\n",
            "60000/60000 [==============================] - 9s 145us/step - loss: 0.8269 - accuracy: 0.7468 - val_loss: 0.3687 - val_accuracy: 0.8906\n",
            "Epoch 2/20\n",
            "60000/60000 [==============================] - 8s 138us/step - loss: 0.3511 - accuracy: 0.8957 - val_loss: 0.2789 - val_accuracy: 0.9170\n",
            "Epoch 3/20\n",
            "60000/60000 [==============================] - 8s 138us/step - loss: 0.2769 - accuracy: 0.9175 - val_loss: 0.2278 - val_accuracy: 0.9311\n",
            "Epoch 4/20\n",
            "60000/60000 [==============================] - 8s 140us/step - loss: 0.2258 - accuracy: 0.9324 - val_loss: 0.2082 - val_accuracy: 0.9328\n",
            "Epoch 5/20\n",
            "60000/60000 [==============================] - 8s 139us/step - loss: 0.1901 - accuracy: 0.9426 - val_loss: 0.1582 - val_accuracy: 0.9513\n",
            "Epoch 6/20\n",
            "60000/60000 [==============================] - 8s 138us/step - loss: 0.1636 - accuracy: 0.9508 - val_loss: 0.1460 - val_accuracy: 0.9553\n",
            "Epoch 7/20\n",
            "60000/60000 [==============================] - 8s 138us/step - loss: 0.1415 - accuracy: 0.9576 - val_loss: 0.1354 - val_accuracy: 0.9595\n",
            "Epoch 8/20\n",
            "60000/60000 [==============================] - 8s 140us/step - loss: 0.1263 - accuracy: 0.9621 - val_loss: 0.1126 - val_accuracy: 0.9654\n",
            "Epoch 9/20\n",
            "60000/60000 [==============================] - 8s 139us/step - loss: 0.1129 - accuracy: 0.9660 - val_loss: 0.1035 - val_accuracy: 0.9674\n",
            "Epoch 10/20\n",
            "60000/60000 [==============================] - 8s 137us/step - loss: 0.1009 - accuracy: 0.9694 - val_loss: 0.0997 - val_accuracy: 0.9679\n",
            "Epoch 11/20\n",
            "60000/60000 [==============================] - 9s 143us/step - loss: 0.0926 - accuracy: 0.9716 - val_loss: 0.0930 - val_accuracy: 0.9702\n",
            "Epoch 12/20\n",
            "60000/60000 [==============================] - 8s 141us/step - loss: 0.0845 - accuracy: 0.9739 - val_loss: 0.0912 - val_accuracy: 0.9720\n",
            "Epoch 13/20\n",
            "60000/60000 [==============================] - 8s 139us/step - loss: 0.0778 - accuracy: 0.9759 - val_loss: 0.0815 - val_accuracy: 0.9751\n",
            "Epoch 14/20\n",
            "60000/60000 [==============================] - 8s 139us/step - loss: 0.0718 - accuracy: 0.9776 - val_loss: 0.0809 - val_accuracy: 0.9745\n",
            "Epoch 15/20\n",
            "60000/60000 [==============================] - 8s 138us/step - loss: 0.0661 - accuracy: 0.9798 - val_loss: 0.0782 - val_accuracy: 0.9744\n",
            "Epoch 16/20\n",
            "60000/60000 [==============================] - 8s 138us/step - loss: 0.0603 - accuracy: 0.9811 - val_loss: 0.0761 - val_accuracy: 0.9765\n",
            "Epoch 17/20\n",
            "60000/60000 [==============================] - 8s 138us/step - loss: 0.0573 - accuracy: 0.9820 - val_loss: 0.0740 - val_accuracy: 0.9762\n",
            "Epoch 18/20\n",
            "60000/60000 [==============================] - 8s 139us/step - loss: 0.0533 - accuracy: 0.9833 - val_loss: 0.0723 - val_accuracy: 0.9780\n",
            "Epoch 19/20\n",
            "60000/60000 [==============================] - 8s 140us/step - loss: 0.0508 - accuracy: 0.9840 - val_loss: 0.0730 - val_accuracy: 0.9767\n",
            "Epoch 20/20\n",
            "60000/60000 [==============================] - 8s 139us/step - loss: 0.0461 - accuracy: 0.9859 - val_loss: 0.0703 - val_accuracy: 0.9781\n"
          ],
          "name": "stdout"
        }
      ]
    },
    {
      "cell_type": "code",
      "metadata": {
        "id": "SvXrmR5jmHSP",
        "colab_type": "code",
        "outputId": "2da81862-8244-40af-f307-aa58e9724bee",
        "colab": {
          "base_uri": "https://localhost:8080/",
          "height": 67
        }
      },
      "source": [
        "score=model.evaluate(x_test,y_test)\n",
        "print(\"loss = \",score[0])\n",
        "print(\"accuracy = \",score[1])"
      ],
      "execution_count": 0,
      "outputs": [
        {
          "output_type": "stream",
          "text": [
            "10000/10000 [==============================] - 1s 64us/step\n",
            "loss =  0.07030032335221767\n",
            "accuracy =  0.9781000018119812\n"
          ],
          "name": "stdout"
        }
      ]
    },
    {
      "cell_type": "markdown",
      "metadata": {
        "id": "ugEYzK1TpayN",
        "colab_type": "text"
      },
      "source": [
        "#TEST ACCURACY =  97.81% \n",
        "\n",
        "#LOSS= 7%"
      ]
    },
    {
      "cell_type": "code",
      "metadata": {
        "id": "UVG-FW1Ln4gN",
        "colab_type": "code",
        "outputId": "ee038259-c2c0-4a87-997c-b5dea89cc6a8",
        "colab": {
          "base_uri": "https://localhost:8080/",
          "height": 319
        }
      },
      "source": [
        "model.summary()"
      ],
      "execution_count": 0,
      "outputs": [
        {
          "output_type": "stream",
          "text": [
            "Model: \"sequential_2\"\n",
            "_________________________________________________________________\n",
            "Layer (type)                 Output Shape              Param #   \n",
            "=================================================================\n",
            "dense_4 (Dense)              (None, 512)               401920    \n",
            "_________________________________________________________________\n",
            "dropout_3 (Dropout)          (None, 512)               0         \n",
            "_________________________________________________________________\n",
            "dense_5 (Dense)              (None, 512)               262656    \n",
            "_________________________________________________________________\n",
            "dropout_4 (Dropout)          (None, 512)               0         \n",
            "_________________________________________________________________\n",
            "dense_6 (Dense)              (None, 10)                5130      \n",
            "=================================================================\n",
            "Total params: 669,706\n",
            "Trainable params: 669,706\n",
            "Non-trainable params: 0\n",
            "_________________________________________________________________\n"
          ],
          "name": "stdout"
        }
      ]
    },
    {
      "cell_type": "code",
      "metadata": {
        "id": "3aQJZP1wnEpJ",
        "colab_type": "code",
        "outputId": "4b0c79d2-a37f-4660-c443-335e65324c32",
        "colab": {
          "base_uri": "https://localhost:8080/",
          "height": 34
        }
      },
      "source": [
        "pred=model.predict(x_test)\n",
        "print(pred.argmax())"
      ],
      "execution_count": 0,
      "outputs": [
        {
          "output_type": "stream",
          "text": [
            "1625\n"
          ],
          "name": "stdout"
        }
      ]
    },
    {
      "cell_type": "markdown",
      "metadata": {
        "id": "psqQMhufnbRf",
        "colab_type": "text"
      },
      "source": [
        "Visualising data with maximum value"
      ]
    },
    {
      "cell_type": "code",
      "metadata": {
        "id": "3F9PfnGTnKG-",
        "colab_type": "code",
        "outputId": "fdfc08d1-4bf6-4755-832b-a0ab68a0b848",
        "colab": {
          "base_uri": "https://localhost:8080/",
          "height": 282
        }
      },
      "source": [
        "image_index=1625\n",
        "plt.imshow(x_test[image_index].reshape(28,28),cmap='Greys')"
      ],
      "execution_count": 0,
      "outputs": [
        {
          "output_type": "execute_result",
          "data": {
            "text/plain": [
              "<matplotlib.image.AxesImage at 0x7f4c28e4a278>"
            ]
          },
          "metadata": {
            "tags": []
          },
          "execution_count": 19
        },
        {
          "output_type": "display_data",
          "data": {
            "image/png": "[encoded data removed]",
            "text/plain": [
              "<Figure size 432x288 with 1 Axes>"
            ]
          },
          "metadata": {
            "tags": [],
            "needs_background": "light"
          }
        }
      ]
    }
  ]
}